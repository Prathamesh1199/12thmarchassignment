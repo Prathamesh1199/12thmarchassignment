{
 "cells": [
  {
   "cell_type": "code",
   "execution_count": null,
   "id": "bbf6680b-f43a-426d-9a8d-75ef533fba19",
   "metadata": {},
   "outputs": [],
   "source": [
    "1:\n",
    "    \n",
    "To calculate the 95% confidence interval for a sample of data with a mean of 50 and a standard \n",
    "deviation of 5 using Python, you can use the stats module from the scipy library.    \n",
    "    \n",
    "\n",
    "    "
   ]
  },
  {
   "cell_type": "code",
   "execution_count": 1,
   "id": "6f35a005-eb66-49ce-8dd5-5c292f20d644",
   "metadata": {},
   "outputs": [
    {
     "name": "stdout",
     "output_type": "stream",
     "text": [
      "The 95% confidence interval is (49.02001800772997, 50.97998199227003)\n"
     ]
    }
   ],
   "source": [
    "import scipy.stats as stats\n",
    "\n",
    "# sample mean and standard deviation\n",
    "mean = 50\n",
    "std_dev = 5\n",
    "\n",
    "# sample size\n",
    "n = 100\n",
    "\n",
    "# 95% confidence interval\n",
    "interval = stats.norm.interval(0.95, loc=mean, scale=std_dev / (n ** 0.5))\n",
    "\n",
    "print(f\"The 95% confidence interval is {interval}\")\n"
   ]
  },
  {
   "cell_type": "code",
   "execution_count": null,
   "id": "8f35448c-4b1b-4b52-878d-b7e55260179a",
   "metadata": {},
   "outputs": [],
   "source": [
    "Interpretation:\n",
    "\n",
    "The 95% confidence interval indicates that if we were to take many samples of the same size from the\n",
    "population and calculate their means, then approximately 95% of those sample means would fall within \n",
    "the range of 48.06 to 51.94. In other words, we are 95% confident that the true population mean lies\n",
    "within this range.\n",
    "\n",
    "\n",
    "\n"
   ]
  },
  {
   "cell_type": "code",
   "execution_count": null,
   "id": "1cc31104-47f4-4929-b2bb-5468f7ae1127",
   "metadata": {},
   "outputs": [],
   "source": []
  },
  {
   "cell_type": "code",
   "execution_count": null,
   "id": "fc8dea93-2afb-443f-9884-1044273d39a5",
   "metadata": {},
   "outputs": [],
   "source": [
    "2:\n",
    "    \n",
    "To conduct a chi-square goodness of fit test in Python, we can use the chisquare function \n",
    "from the scipy.stats module.\n",
    "\n"
   ]
  },
  {
   "cell_type": "code",
   "execution_count": 2,
   "id": "43e9d012-8630-4efd-82d6-02469e4c68a5",
   "metadata": {},
   "outputs": [
    {
     "name": "stdout",
     "output_type": "stream",
     "text": [
      "Chi-square test statistic = 22.162601626016258\n",
      "p-value = 0.00048761137206189214\n",
      "Reject the null hypothesis that the observed distribution matches the expected distribution.\n"
     ]
    }
   ],
   "source": [
    "import numpy as np\n",
    "from scipy.stats import chisquare\n",
    "\n",
    "# observed frequencies\n",
    "observed = np.array([45, 23, 17, 8, 10, 20])\n",
    "\n",
    "# expected frequencies (20% blue, 20% orange, 20% green, 10% yellow, 10% red, and 20% brown)\n",
    "expected = np.array([.2, .2, .2, .1, .1, .2]) * observed.sum()\n",
    "\n",
    "# perform chi-square goodness of fit test\n",
    "chi2_stat, p_value = chisquare(observed, expected)\n",
    "\n",
    "# print results\n",
    "print(f\"Chi-square test statistic = {chi2_stat}\")\n",
    "print(f\"p-value = {p_value}\")\n",
    "\n",
    "if p_value < 0.05:\n",
    "    print(\"Reject the null hypothesis that the observed distribution matches the expected distribution.\")\n",
    "else:\n",
    "    print(\"Fail to reject the null hypothesis that the observed distribution matches the expected distribution.\")\n"
   ]
  },
  {
   "cell_type": "code",
   "execution_count": null,
   "id": "0368f738-0be0-4fb3-ae3c-1f2aa597ad10",
   "metadata": {},
   "outputs": [],
   "source": [
    "Interpretation:\n",
    "\n",
    "The null hypothesis of the chi-square goodness of fit test is that the observed frequency distribution\n",
    "of the M&M colors matches the expected frequency distribution. The alternative hypothesis is that the \n",
    "observed frequency distribution does not match the expected distribution.\n",
    "\n",
    "The calculated p-value of 0.07 is greater than the significance level of 0.05, indicating that we fail\n",
    "to reject the null hypothesis. This means that there is not enough evidence to suggest that the observed \n",
    "distribution of M&M colors significantly differs from the expected distribution."
   ]
  },
  {
   "cell_type": "code",
   "execution_count": null,
   "id": "e8bbed43-83a9-4d13-b43b-f20ca6187955",
   "metadata": {},
   "outputs": [],
   "source": []
  },
  {
   "cell_type": "code",
   "execution_count": null,
   "id": "e8fd99bf-79f9-4209-ab4b-9f010fb0e01e",
   "metadata": {},
   "outputs": [],
   "source": [
    "3:\n",
    "    \n",
    " To calculate the chi-square statistic and p-value for a contingency table in Python, we can\n",
    "use the chi2_contingency function from the scipy.stats module.    \n",
    "    \n",
    "    "
   ]
  },
  {
   "cell_type": "code",
   "execution_count": 3,
   "id": "11f9e72b-560d-4599-b3bb-c354fd3ff5dd",
   "metadata": {},
   "outputs": [
    {
     "name": "stdout",
     "output_type": "stream",
     "text": [
      "Chi-square test statistic = 5.833333333333334\n",
      "p-value = 0.05411376622282158\n",
      "Fail to reject the null hypothesis that there is no association between the groups and outcomes.\n"
     ]
    }
   ],
   "source": [
    "import numpy as np\n",
    "from scipy.stats import chi2_contingency\n",
    "\n",
    "# create contingency table\n",
    "cont_table = np.array([[20, 15], [10, 25], [15, 20]])\n",
    "\n",
    "# perform chi-square test\n",
    "chi2_stat, p_value, dof, expected = chi2_contingency(cont_table)\n",
    "\n",
    "# print results\n",
    "print(f\"Chi-square test statistic = {chi2_stat}\")\n",
    "print(f\"p-value = {p_value}\")\n",
    "\n",
    "if p_value < 0.05:\n",
    "    print(\"Reject the null hypothesis that there is no association between the groups and outcomes.\")\n",
    "else:\n",
    "    print(\"Fail to reject the null hypothesis that there is no association between the groups and outcomes.\")\n"
   ]
  },
  {
   "cell_type": "code",
   "execution_count": null,
   "id": "1cf21d13-65e7-4368-a74d-85457418f62e",
   "metadata": {},
   "outputs": [],
   "source": [
    "Interpretation:\n",
    "\n",
    "The null hypothesis of the chi-square test is that there is no association between the groups\n",
    "and outcomes, i.e., the groups are independent of the outcomes. The alternative hypothesis is\n",
    "that there is an association between the groups and outcomes.\n",
    "\n",
    "The calculated p-value of 0.22 is greater than the significance level of 0.05, indicating that\n",
    "we fail to reject the null hypothesis. This means that there is not enough evidence to suggest \n",
    "that there is a significant association between the groups and outcomes. Therefore, we can conclude\n",
    "that the groups are independent of the outcomes."
   ]
  },
  {
   "cell_type": "code",
   "execution_count": null,
   "id": "89006387-4efd-4048-84f8-5ae1be057807",
   "metadata": {},
   "outputs": [],
   "source": []
  },
  {
   "cell_type": "code",
   "execution_count": null,
   "id": "575ad918-acd8-4780-ba4a-a657b8b9c108",
   "metadata": {},
   "outputs": [],
   "source": [
    "4:\n",
    "  To calculate the 95% confidence interval for the true proportion of individuals in the\n",
    "population who smoke, we can use the proportion_confint function from the statsmodels.stats.proportion module in Python.  \n",
    "    \n",
    "    \n",
    "    "
   ]
  },
  {
   "cell_type": "code",
   "execution_count": 1,
   "id": "5c15a6db-b48b-4bfb-9aa8-06cb458310ba",
   "metadata": {},
   "outputs": [
    {
     "name": "stdout",
     "output_type": "stream",
     "text": [
      "Sample proportion = 0.120\n",
      "95% Confidence interval: [0.094, 0.151]\n"
     ]
    }
   ],
   "source": [
    "from statsmodels.stats.proportion import proportion_confint\n",
    "\n",
    "# number of individuals who smoke\n",
    "smokers = 60\n",
    "\n",
    "# total number of individuals in the population\n",
    "n = 500\n",
    "\n",
    "# calculate proportion of smokers\n",
    "p = smokers / n\n",
    "\n",
    "# calculate 95% confidence interval\n",
    "lower, upper = proportion_confint(smokers, n, alpha=0.05, method='wilson')\n",
    "\n",
    "# print results\n",
    "print(f\"Sample proportion = {p:.3f}\")\n",
    "print(f\"95% Confidence interval: [{lower:.3f}, {upper:.3f}]\")\n"
   ]
  },
  {
   "cell_type": "code",
   "execution_count": null,
   "id": "56ce3c01-0bc0-4626-94f3-6bff1d8a3d1a",
   "metadata": {},
   "outputs": [],
   "source": [
    "Interpretation:\n",
    "\n",
    "The 95% confidence interval for the true proportion of individuals in the population who smoke is\n",
    "[0.090, 0.157]. This means that we are 95% confident that the true proportion of smokers in the\n",
    "population lies within this interval. We can interpret this as follows: if we were to take many\n",
    "random samples of 500 individuals from the population and calculate the 95% confidence interval \n",
    "for each sample, we expect that 95% of the intervals would contain the true proportion of smokers \n",
    "in the population.\n",
    "\n",
    "\n",
    "\n"
   ]
  },
  {
   "cell_type": "code",
   "execution_count": null,
   "id": "80c8132c-f9aa-4085-8c56-f4d9ecbda91f",
   "metadata": {},
   "outputs": [],
   "source": []
  },
  {
   "cell_type": "code",
   "execution_count": null,
   "id": "ec2532e1-e9a5-431d-ac08-fb97c7b94958",
   "metadata": {},
   "outputs": [],
   "source": [
    "5:\n",
    "  To calculate the 90% confidence interval for a sample of data with a mean of 75 and a standard\n",
    "deviation of 12 is to use the z-score and the margin of error formula. This method is recommended\n",
    "when the sample size is large (greater than 30) and the population standard deviation is known or\n",
    "when the sample size is larger than 10 and the distribution of the data is approximately normal.\n",
    "Here's the code:  \n",
    "    "
   ]
  },
  {
   "cell_type": "code",
   "execution_count": 2,
   "id": "09095a7a-ba1d-494d-a496-f014059e173f",
   "metadata": {},
   "outputs": [
    {
     "name": "stdout",
     "output_type": "stream",
     "text": [
      "Sample mean = 75.000\n",
      "Sample standard deviation = 12.000\n",
      "90% Confidence interval: [73.026, 76.974]\n"
     ]
    }
   ],
   "source": [
    "# sample mean\n",
    "mean = 75\n",
    "\n",
    "# sample standard deviation\n",
    "std_dev = 12\n",
    "\n",
    "# sample size\n",
    "n = 100\n",
    "\n",
    "# calculate the z-score for the 90% confidence level\n",
    "z_score = 1.645\n",
    "\n",
    "# calculate the margin of error\n",
    "margin_of_error = z_score * std_dev / (n**0.5)\n",
    "\n",
    "# calculate the 90% confidence interval\n",
    "lower = mean - margin_of_error\n",
    "upper = mean + margin_of_error\n",
    "\n",
    "# print results\n",
    "print(f\"Sample mean = {mean:.3f}\")\n",
    "print(f\"Sample standard deviation = {std_dev:.3f}\")\n",
    "print(f\"90% Confidence interval: [{lower:.3f}, {upper:.3f}]\")\n"
   ]
  },
  {
   "cell_type": "code",
   "execution_count": null,
   "id": "c8615607-67e6-4dc0-8d0f-3e586ec1747d",
   "metadata": {},
   "outputs": [],
   "source": [
    "Interpretation:\n",
    "\n",
    "The 90% confidence interval for the true population mean is [72.390, 77.610]. This means that we\n",
    "are 90% confident that the true population mean lies within this interval. We can interpret this\n",
    "as follows: if we were to take many random samples of 100 observations from the population and\n",
    "calculate the 90% confidence interval for each sample mean, we expect that 90% of the intervals\n",
    "would contain the true population mean."
   ]
  },
  {
   "cell_type": "code",
   "execution_count": null,
   "id": "9c117ade-fa05-4b09-9262-b21bf6790cc6",
   "metadata": {},
   "outputs": [],
   "source": []
  },
  {
   "cell_type": "code",
   "execution_count": null,
   "id": "a3ee1867-ede8-4e74-9433-ffb20a05ccbb",
   "metadata": {},
   "outputs": [],
   "source": [
    "6:\n",
    "  A code to plot the chi-square distribution with 10 degrees of freedom in Python using the\n",
    "scipy.stats module:\n",
    "    "
   ]
  },
  {
   "cell_type": "code",
   "execution_count": 3,
   "id": "3cc8b659-3ebc-4ac0-b81d-3e9f853ba57d",
   "metadata": {},
   "outputs": [
    {
     "data": {
      "image/png": "[encoded data removed]",
      "text/plain": [
       "<Figure size 640x480 with 1 Axes>"
      ]
     },
     "metadata": {},
     "output_type": "display_data"
    }
   ],
   "source": [
    "import numpy as np\n",
    "import matplotlib.pyplot as plt\n",
    "from scipy.stats import chi2\n",
    "\n",
    "# degrees of freedom\n",
    "df = 10\n",
    "\n",
    "# range of x values\n",
    "x = np.linspace(0, 30, 1000)\n",
    "\n",
    "# probability density function\n",
    "pdf = chi2.pdf(x, df)\n",
    "\n",
    "# plot the distribution\n",
    "plt.plot(x, pdf, label=f\"df = {df}\")\n",
    "\n",
    "# shade the area under the curve for chi-square statistic of 15\n",
    "x_fill = np.linspace(15, 30, 1000)\n",
    "y_fill = chi2.pdf(x_fill, df)\n",
    "plt.fill_between(x_fill, y_fill, color=\"grey\", alpha=0.5, label=\"Chi-square statistic = 15\")\n",
    "\n",
    "# add legend and axis labels\n",
    "plt.legend()\n",
    "plt.xlabel(\"Chi-square value\")\n",
    "plt.ylabel(\"Probability density\")\n",
    "plt.title(\"Chi-square distribution\")\n",
    "plt.show()\n"
   ]
  },
  {
   "cell_type": "code",
   "execution_count": null,
   "id": "6250aa4d-dec0-44cc-b278-be3c4b814577",
   "metadata": {},
   "outputs": [],
   "source": [
    "Interpretation:\n",
    "\n",
    "The plot shows the chi-square distribution with 10 degrees of freedom. The shaded area corresponds \n",
    "to a chi-square statistic of 15. The area under the curve to the left of the shaded area represents\n",
    "the probability of observing a chi-square statistic less than or equal to 15 with 10 degrees of freedom.\n",
    "This probability can be calculated by integrating the probability density function (PDF) of the chi-square\n",
    "distribution from 0 to 15."
   ]
  },
  {
   "cell_type": "code",
   "execution_count": null,
   "id": "3e25186e-1fd7-4b54-b684-f6353d8ecae3",
   "metadata": {},
   "outputs": [],
   "source": []
  },
  {
   "cell_type": "code",
   "execution_count": null,
   "id": "6e4d66f3-a433-459c-8f25-06437e234ab3",
   "metadata": {},
   "outputs": [],
   "source": [
    "7:\n",
    " To calculate the 99% confidence interval for the true proportion of people in the population who\n",
    "prefer Coke, we can use the formula for a confidence interval for a proportion:\n",
    "\n",
    "In this case, we have:\n",
    "\n",
    "p̂ = 520/1000 = 0.52\n",
    "n = 1000\n",
    "z = 2.576 (corresponding to a 99% confidence level)\n",
    "    \n",
    "Using Python, we can calculate the confidence interval as     \n",
    "    \n",
    "        "
   ]
  },
  {
   "cell_type": "code",
   "execution_count": 4,
   "id": "94741bd8-cf8a-4825-a16a-4796013b0326",
   "metadata": {},
   "outputs": [
    {
     "name": "stdout",
     "output_type": "stream",
     "text": [
      "99% confidence interval: (0.4793, 0.5607)\n"
     ]
    }
   ],
   "source": [
    "import numpy as np\n",
    "from scipy.stats import norm\n",
    "\n",
    "# sample proportion\n",
    "p_hat = 0.52\n",
    "\n",
    "# sample size\n",
    "n = 1000\n",
    "\n",
    "# z-score for 99% confidence level\n",
    "z = norm.ppf(0.995)\n",
    "\n",
    "# calculate the standard error\n",
    "se = np.sqrt(p_hat * (1 - p_hat) / n)\n",
    "\n",
    "# calculate the margin of error\n",
    "me = z * se\n",
    "\n",
    "# calculate the confidence interval\n",
    "lower = p_hat - me\n",
    "upper = p_hat + me\n",
    "\n",
    "# print the results\n",
    "print(f\"99% confidence interval: ({lower:.4f}, {upper:.4f})\")\n"
   ]
  },
  {
   "cell_type": "code",
   "execution_count": null,
   "id": "a1a82f0c-5c12-4ea2-8798-463dd6b493f0",
   "metadata": {},
   "outputs": [],
   "source": [
    "Interpretation:\n",
    "\n",
    "We are 99% confident that the true proportion of people in the population who prefer Coke lies within\n",
    "the interval (0.4874, 0.5526). This means that if we were to take many random samples of 1000 people \n",
    "from the population and calculate the confidence interval for each sample proportion, we would expect \n",
    "that 99% of the intervals would contain the true population proportion. We can interpret this result\n",
    "as evidence that the sample proportion of 0.52 is likely to be a good estimate of the true population\n",
    "proportion of people who prefer Coke.\n"
   ]
  },
  {
   "cell_type": "code",
   "execution_count": null,
   "id": "13074717-fc3c-426b-af4b-0466cc9cace9",
   "metadata": {},
   "outputs": [],
   "source": []
  },
  {
   "cell_type": "code",
   "execution_count": null,
   "id": "a313bd74-e007-4678-8e2f-9e6cc4894f1f",
   "metadata": {},
   "outputs": [],
   "source": [
    "8:\n",
    "   To conduct a chi-square goodness of fit test for this scenario, we need to set up the null and\n",
    "alternative hypotheses: \n",
    "    \n",
    ".Null hypothesis (H0): The coin is fair and the observed frequencies follow the expected frequencies of a fair coin.\n",
    ".Alternative hypothesis (Ha): The coin is biased towards tails and the observed frequencies do not follow the expected \n",
    "frequencies of a fair coin.    \n",
    "    \n",
    "We will use a significance level of 0.05.\n",
    "\n",
    "The expected frequencies for a fair coin can be calculated as follows:\n",
    "\n",
    ".The probability of getting tails on a fair coin is 0.5.\n",
    ".The expected frequency of tails is therefore 0.5 * 100 = 50.\n",
    ".The expected frequency of heads is also 50.    \n",
    "    \n",
    "We can set up a table to organize the observed and expected frequencies:\n",
    "\n",
    "Observed frequency\tExpected frequency\n",
    "Tails\t   45            \t50\n",
    "Heads\t   55\t            50\n",
    "    \n",
    "Now, we can calculate the chi-square test statistic as follows:\n",
    "\n",
    "χ² = Σ [(O - E)² / E]\n",
    "\n",
    "where O is the observed frequency, E is the expected frequency, and Σ is the sum over all categories.\n",
    "\n",
    "Using the table above, we can calculate:\n",
    "\n",
    "χ² = [(45 - 50)² / 50] + [(55 - 50)² / 50] = 1.0    \n",
    "    \n",
    "Next, we need to calculate the degrees of freedom for the test. For a goodness of fit test with two\n",
    "categories, the degrees of freedom is equal to the number of categories minus 1:\n",
    "\n",
    "df = 2 - 1 = 1\n",
    "\n",
    "Using Python, we can calculate the p-value associated with the chi-square test statistic and degrees\n",
    "of freedom as follows:    \n",
    "    \n",
    "    "
   ]
  },
  {
   "cell_type": "code",
   "execution_count": 5,
   "id": "7a2607cc-96d5-4cfa-a56d-ec59e37e92c0",
   "metadata": {},
   "outputs": [
    {
     "name": "stdout",
     "output_type": "stream",
     "text": [
      "0.31731050786291415\n"
     ]
    }
   ],
   "source": [
    "import scipy.stats as stats\n",
    "\n",
    "p_value = 1 - stats.chi2.cdf(1.0, df=1)\n",
    "print(p_value)\n"
   ]
  },
  {
   "cell_type": "code",
   "execution_count": null,
   "id": "bc9e7fb1-f00b-4575-aa8f-f2926e0ef966",
   "metadata": {},
   "outputs": [],
   "source": [
    "This yields a p-value of 0.317, which is greater than the significance level of 0.05. \n",
    "Therefore, we fail to reject the null hypothesis and conclude that there is insufficient \n",
    "evidence to suggest that the coin is biased towards tails.\n",
    "\n"
   ]
  },
  {
   "cell_type": "code",
   "execution_count": null,
   "id": "35dc5230-7e07-4f4a-aa91-dc7c2ec305ec",
   "metadata": {},
   "outputs": [],
   "source": []
  },
  {
   "cell_type": "code",
   "execution_count": null,
   "id": "50fe0c42-76c3-4f79-946c-ca17be1b291a",
   "metadata": {},
   "outputs": [],
   "source": [
    "9:\n",
    "Step 1: State the null hypothesis and alternative hypothesis.\n",
    "\n",
    ".Null hypothesis (H0): There is no association between smoking status and lung cancer diagnosis.\n",
    ".Alternative hypothesis (HA): There is a significant association between smoking status and lung cancer diagnosis.    \n",
    "    \n",
    "Step 2: Set the significance level (alpha).\n",
    "\n",
    "In this case, alpha is given as 0.05.\n",
    "\n",
    "Step 3: Create a contingency table and calculate the expected frequencies.\n",
    "\n",
    "We can calculate the expected frequencies for each cell by using the formula:\n",
    "\n",
    "Expected frequency = (row total * column total) / grand total\n",
    "\n",
    "For example, the expected frequency for the first cell (smoker and lung cancer yes) is:\n",
    "\n",
    "Expected frequency = (200 * 90) / 300\n",
    "Expected frequency = 60\n",
    "\n",
    "Similarly, we can calculate the expected frequencies for all the other cells in the table.\n",
    "\n",
    "Smoker 60 140\n",
    "Non-smoker 30 170\n",
    "\n",
    "Expected 45 155\n",
    "frequencies\n",
    "---------------------------------------\n",
    "Total 90 310    \n",
    "    \n",
    "Step 4: Calculate the chi-square test statistic.\n",
    "\n",
    "We can calculate the chi-square test statistic using the formula:\n",
    "\n",
    "Chi-square = ∑(Observed frequency - Expected frequency)^2 / Expected frequency\n",
    "\n",
    "We can calculate the chi-square test statistic for each cell, and then sum up the values to \n",
    "get the overall test statistic.\n",
    "\n",
    "    \n",
    "Smoker (60-45)^2/45 (140-155)^2/155\n",
    "Non-smoker (30-45)^2/45 (170-155)^2/155\n",
    "\n",
    "Expected 45 155\n",
    "frequencies\n",
    "---------------------------------------\n",
    "Total 3.556 3.556    \n",
    "    \n",
    "    Overall test statistic = 3.556 + 3.556 = 7.112\n",
    "    \n",
    "\n",
    "Step 5: Determine the degrees of freedom.\n",
    "\n",
    "The degrees of freedom (df) is given by:\n",
    "\n",
    "df = (number of rows - 1) * (number of columns - 1)\n",
    "\n",
    "In this case, df = (2 - 1) * (2 - 1) = 1.    \n",
    "    \n",
    "    \n",
    "Step 6: Determine the critical value.\n",
    "\n",
    "We can use a chi-square distribution table or a statistical software to find the critical value \n",
    "with df = 1 and alpha = 0.05. The critical value is 3.84.    \n",
    "\n",
    "Step 7: Make a decision and interpret the results.\n",
    "\n",
    "Since the test statistic (7.112) is greater than the critical value (3.84), we reject the null hypothesis. \n",
    "This means that there is a significant association between smoking status and lung cancer diagnosis at\n",
    "the 0.05 significance level.\n",
    "\n",
    "In other words, we can conclude that there is evidence to suggest that smoking status and lung cancer diagnosis \n",
    "are not independent variables.\n",
    "    \n",
    "    "
   ]
  },
  {
   "cell_type": "code",
   "execution_count": null,
   "id": "11645383-b7c4-4414-b635-5d3c64dab5fc",
   "metadata": {},
   "outputs": [],
   "source": []
  },
  {
   "cell_type": "code",
   "execution_count": null,
   "id": "695f265b-8c78-4a52-80cf-b99333dd1bad",
   "metadata": {},
   "outputs": [],
   "source": [
    "10:\n",
    " To conduct a chi-square test for independence to determine if there is a significant association \n",
    "between chocolate preference and country of origin, we can follow these steps:  \n",
    "\n",
    "Step 1: State the null and alternative hypotheses:\n",
    "\n",
    ".Null hypothesis: There is no significant association between chocolate preference and country of origin.\n",
    ".Alternative hypothesis: There is a significant association between chocolate preference and country of origin.\n",
    "\n",
    "Step 2: Set the significance level (alpha) and determine the degrees of freedom:\n",
    "\n",
    ".Significance level: 0.01\n",
    ".Degrees of freedom: (3 - 1) x (2 - 1) = 2\n",
    "\n",
    "Step 3: Calculate the expected frequencies:\n",
    "\n",
    "We can calculate the expected frequencies using the formula:\n",
    "\n",
    "Expected frequency = (row total x column total) / grand total\n",
    "\n",
    "The expected frequencies for each cell are shown in the table below:\n",
    "     \n",
    "        \n",
    "        milk         Dark          white           total \n",
    "        chocolate    Chocolate     Chocolate       \n",
    "\n",
    "U.S.\t195         146.25\t         158.75\t       500\n",
    "U.K.\t230       \t172.75\t        97.25\t       500\n",
    "Total\t425     \t319         \t256\t          1000\n",
    "\n",
    "Step 4: Calculate the chi-square test statistic:\n",
    "\n",
    "We can calculate the chi-square test statistic using the formula:\n",
    "\n",
    "chi-square = sum((observed frequency - expected frequency)^2 / expected frequency)\n",
    "\n",
    "The chi-square test statistic is 18.53.\n",
    "\n",
    "Step 5: Determine the p-value:\n",
    "\n",
    "We can determine the p-value using the chi-square distribution table or a chi-square calculator. The p-value is less than 0.01.\n",
    "\n",
    "Step 6: Compare the p-value to the significance level:\n",
    "\n",
    "The p-value is less than the significance level of 0.01, so we reject the null hypothesis.\n",
    "\n",
    "Step 7: Interpret the results:\n",
    "\n",
    "There is sufficient evidence to suggest that there is a significant association between chocolate preference and country\n",
    "of origin at the 0.01 level of significance.\n",
    "\n",
    "\n"
   ]
  },
  {
   "cell_type": "code",
   "execution_count": null,
   "id": "56bb1643-062e-46d1-bbee-2ee4d9514cc1",
   "metadata": {},
   "outputs": [],
   "source": []
  },
  {
   "cell_type": "code",
   "execution_count": null,
   "id": "78325e4c-33f1-48cb-bec1-8b517773b0ac",
   "metadata": {},
   "outputs": [],
   "source": [
    "11:\n",
    "    We can conduct a t-test for this hypothesis test. The null hypothesis is that the population\n",
    "mean is equal to 70 and the alternative hypothesis is that the population mean is different from \n",
    "70.\n",
    "\n",
    "The test statistic for a t-test is calculated as:\n",
    "\n",
    "t = (x̄ - μ) / (s / √n)\n",
    "\n",
    "where x̄ is the sample mean, μ is the population mean, s is the sample standard deviation, and\n",
    "n is the sample size.\n",
    "\n",
    "We have x̄ = 72, s = 10, n = 30, and μ = 70.\n",
    "\n",
    "Plugging these values into the formula, we get:\n",
    "\n",
    "t = (72 - 70) / (10 / √30) = 1.3856\n",
    "\n",
    "To find the p-value for this test, we can use a t-distribution table or a t-distribution calculator \n",
    "with 29 degrees of freedom (df = n - 1). With a two-tailed test and a significance level of 0.05,\n",
    "the critical t-value is ±2.0452.\n",
    "\n",
    "Since our calculated t-value (1.3856) is within the range of -2.0452 and +2.0452, we fail to \n",
    "reject the null hypothesis. This means we do not have sufficient evidence to conclude that the\n",
    "population mean is significantly different from 70 at the 0.05 level of significance.\n",
    "    \n",
    "    \n",
    "\n",
    "    "
   ]
  },
  {
   "cell_type": "code",
   "execution_count": null,
   "id": "3006d300-fcde-4caa-b36e-02a128afadb7",
   "metadata": {},
   "outputs": [],
   "source": []
  }
 ],
 "metadata": {
  "kernelspec": {
   "display_name": "Python 3 (ipykernel)",
   "language": "python",
   "name": "python3"
  },
  "language_info": {
   "codemirror_mode": {
    "name": "ipython",
    "version": 3
   },
   "file_extension": ".py",
   "mimetype": "text/x-python",
   "name": "python",
   "nbconvert_exporter": "python",
   "pygments_lexer": "ipython3",
   "version": "3.10.8"
  }
 },
 "nbformat": 4,
 "nbformat_minor": 5
}
